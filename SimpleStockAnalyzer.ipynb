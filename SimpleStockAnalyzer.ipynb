{
 "cells": [
  {
   "cell_type": "code",
   "execution_count": 10,
   "metadata": {},
   "outputs": [],
   "source": [
    "import datetime as dt\n",
    "import talib as ta\n",
    "import numpy as np\n",
    "import matplotlib.pyplot as plt\n",
    "import pandas as pd\n",
    "import pandas_datareader as web\n",
    "from scipy import stats\n",
    "import sklearn.metrics\n",
    "from sklearn import linear_model\n",
    "from sklearn.metrics import r2_score\n",
    "import seaborn as sns"
   ]
  },
  {
   "cell_type": "markdown",
   "metadata": {},
   "source": [
    "Remember to run the above code as well to enable the imports."
   ]
  },
  {
   "cell_type": "markdown",
   "metadata": {},
   "source": [
    "Run the notebook below, enter the stock ticker symbol in the console that appears and press enter."
   ]
  },
  {
   "cell_type": "code",
   "execution_count": 47,
   "metadata": {},
   "outputs": [
    {
     "data": {
      "text/html": [
       "<div>\n",
       "<style scoped>\n",
       "    .dataframe tbody tr th:only-of-type {\n",
       "        vertical-align: middle;\n",
       "    }\n",
       "\n",
       "    .dataframe tbody tr th {\n",
       "        vertical-align: top;\n",
       "    }\n",
       "\n",
       "    .dataframe thead th {\n",
       "        text-align: right;\n",
       "    }\n",
       "</style>\n",
       "<table border=\"1\" class=\"dataframe\">\n",
       "  <thead>\n",
       "    <tr style=\"text-align: right;\">\n",
       "      <th></th>\n",
       "      <th>High</th>\n",
       "      <th>Low</th>\n",
       "      <th>Open</th>\n",
       "      <th>Close</th>\n",
       "      <th>Volume</th>\n",
       "      <th>Adj Close</th>\n",
       "    </tr>\n",
       "    <tr>\n",
       "      <th>Date</th>\n",
       "      <th></th>\n",
       "      <th></th>\n",
       "      <th></th>\n",
       "      <th></th>\n",
       "      <th></th>\n",
       "      <th></th>\n",
       "    </tr>\n",
       "  </thead>\n",
       "  <tbody>\n",
       "    <tr>\n",
       "      <th>2017-11-24</th>\n",
       "      <td>46.049999</td>\n",
       "      <td>45.860001</td>\n",
       "      <td>45.889999</td>\n",
       "      <td>45.880001</td>\n",
       "      <td>2996300.0</td>\n",
       "      <td>39.090950</td>\n",
       "    </tr>\n",
       "    <tr>\n",
       "      <th>2017-11-27</th>\n",
       "      <td>45.990002</td>\n",
       "      <td>45.810001</td>\n",
       "      <td>45.880001</td>\n",
       "      <td>45.900002</td>\n",
       "      <td>5649200.0</td>\n",
       "      <td>39.107986</td>\n",
       "    </tr>\n",
       "    <tr>\n",
       "      <th>2017-11-28</th>\n",
       "      <td>46.150002</td>\n",
       "      <td>45.779999</td>\n",
       "      <td>45.990002</td>\n",
       "      <td>45.830002</td>\n",
       "      <td>8432800.0</td>\n",
       "      <td>39.048347</td>\n",
       "    </tr>\n",
       "    <tr>\n",
       "      <th>2017-11-29</th>\n",
       "      <td>45.820000</td>\n",
       "      <td>45.209999</td>\n",
       "      <td>45.770000</td>\n",
       "      <td>45.500000</td>\n",
       "      <td>16502100.0</td>\n",
       "      <td>38.767178</td>\n",
       "    </tr>\n",
       "    <tr>\n",
       "      <th>2017-11-30</th>\n",
       "      <td>45.840000</td>\n",
       "      <td>45.029999</td>\n",
       "      <td>45.139999</td>\n",
       "      <td>45.770000</td>\n",
       "      <td>17147600.0</td>\n",
       "      <td>39.316952</td>\n",
       "    </tr>\n",
       "    <tr>\n",
       "      <th>...</th>\n",
       "      <td>...</td>\n",
       "      <td>...</td>\n",
       "      <td>...</td>\n",
       "      <td>...</td>\n",
       "      <td>...</td>\n",
       "      <td>...</td>\n",
       "    </tr>\n",
       "    <tr>\n",
       "      <th>2022-11-15</th>\n",
       "      <td>61.450001</td>\n",
       "      <td>60.000000</td>\n",
       "      <td>61.130001</td>\n",
       "      <td>60.630001</td>\n",
       "      <td>13295800.0</td>\n",
       "      <td>60.630001</td>\n",
       "    </tr>\n",
       "    <tr>\n",
       "      <th>2022-11-16</th>\n",
       "      <td>61.029999</td>\n",
       "      <td>60.290001</td>\n",
       "      <td>60.790001</td>\n",
       "      <td>60.520000</td>\n",
       "      <td>14199500.0</td>\n",
       "      <td>60.520000</td>\n",
       "    </tr>\n",
       "    <tr>\n",
       "      <th>2022-11-17</th>\n",
       "      <td>60.740002</td>\n",
       "      <td>60.130001</td>\n",
       "      <td>60.189999</td>\n",
       "      <td>60.709999</td>\n",
       "      <td>11212600.0</td>\n",
       "      <td>60.709999</td>\n",
       "    </tr>\n",
       "    <tr>\n",
       "      <th>2022-11-18</th>\n",
       "      <td>61.369999</td>\n",
       "      <td>60.799999</td>\n",
       "      <td>60.990002</td>\n",
       "      <td>61.139999</td>\n",
       "      <td>10408700.0</td>\n",
       "      <td>61.139999</td>\n",
       "    </tr>\n",
       "    <tr>\n",
       "      <th>2022-11-21</th>\n",
       "      <td>62.209999</td>\n",
       "      <td>61.200001</td>\n",
       "      <td>61.410000</td>\n",
       "      <td>62.080002</td>\n",
       "      <td>15398800.0</td>\n",
       "      <td>62.080002</td>\n",
       "    </tr>\n",
       "  </tbody>\n",
       "</table>\n",
       "<p>1257 rows × 6 columns</p>\n",
       "</div>"
      ],
      "text/plain": [
       "                 High        Low       Open      Close      Volume  Adj Close\n",
       "Date                                                                         \n",
       "2017-11-24  46.049999  45.860001  45.889999  45.880001   2996300.0  39.090950\n",
       "2017-11-27  45.990002  45.810001  45.880001  45.900002   5649200.0  39.107986\n",
       "2017-11-28  46.150002  45.779999  45.990002  45.830002   8432800.0  39.048347\n",
       "2017-11-29  45.820000  45.209999  45.770000  45.500000  16502100.0  38.767178\n",
       "2017-11-30  45.840000  45.029999  45.139999  45.770000  17147600.0  39.316952\n",
       "...               ...        ...        ...        ...         ...        ...\n",
       "2022-11-15  61.450001  60.000000  61.130001  60.630001  13295800.0  60.630001\n",
       "2022-11-16  61.029999  60.290001  60.790001  60.520000  14199500.0  60.520000\n",
       "2022-11-17  60.740002  60.130001  60.189999  60.709999  11212600.0  60.709999\n",
       "2022-11-18  61.369999  60.799999  60.990002  61.139999  10408700.0  61.139999\n",
       "2022-11-21  62.209999  61.200001  61.410000  62.080002  15398800.0  62.080002\n",
       "\n",
       "[1257 rows x 6 columns]"
      ]
     },
     "execution_count": 47,
     "metadata": {},
     "output_type": "execute_result"
    }
   ],
   "source": [
    "stock = input(\"Enter a stock ticker: \")\n",
    "data = web.DataReader(stock, \"yahoo\")\n",
    "data"
   ]
  },
  {
   "cell_type": "code",
   "execution_count": 48,
   "metadata": {},
   "outputs": [
    {
     "name": "stdout",
     "output_type": "stream",
     "text": [
      "viewing -> KO / SMA_100\n"
     ]
    },
    {
     "data": {
      "text/plain": [
       "[<matplotlib.lines.Line2D at 0x190deca2860>]"
      ]
     },
     "execution_count": 48,
     "metadata": {},
     "output_type": "execute_result"
    },
    {
     "data": {
      "image/png": "[encoded data removed]",
      "text/plain": [
       "<Figure size 640x480 with 1 Axes>"
      ]
     },
     "metadata": {},
     "output_type": "display_data"
    }
   ],
   "source": [
    "#SMA_100 & Basic Chart\n",
    "data['SMA_100'] = ta.SMA(data['Close'], 100)\n",
    "data.iloc[100:]\n",
    "\n",
    "print(\"viewing -> \" + stock, '/ SMA_100')\n",
    "plt.plot(data['Close'])\n",
    "plt.plot(data['SMA_100'])"
   ]
  },
  {
   "cell_type": "code",
   "execution_count": 49,
   "metadata": {},
   "outputs": [
    {
     "name": "stdout",
     "output_type": "stream",
     "text": [
      ".Corr values of KO\n"
     ]
    },
    {
     "data": {
      "text/html": [
       "<div>\n",
       "<style scoped>\n",
       "    .dataframe tbody tr th:only-of-type {\n",
       "        vertical-align: middle;\n",
       "    }\n",
       "\n",
       "    .dataframe tbody tr th {\n",
       "        vertical-align: top;\n",
       "    }\n",
       "\n",
       "    .dataframe thead th {\n",
       "        text-align: right;\n",
       "    }\n",
       "</style>\n",
       "<table border=\"1\" class=\"dataframe\">\n",
       "  <thead>\n",
       "    <tr style=\"text-align: right;\">\n",
       "      <th></th>\n",
       "      <th>High</th>\n",
       "      <th>Low</th>\n",
       "      <th>Open</th>\n",
       "      <th>Close</th>\n",
       "      <th>Volume</th>\n",
       "      <th>Adj Close</th>\n",
       "      <th>SMA_100</th>\n",
       "    </tr>\n",
       "  </thead>\n",
       "  <tbody>\n",
       "    <tr>\n",
       "      <th>High</th>\n",
       "      <td>1.000000</td>\n",
       "      <td>0.996560</td>\n",
       "      <td>0.998046</td>\n",
       "      <td>0.997678</td>\n",
       "      <td>0.054937</td>\n",
       "      <td>0.986307</td>\n",
       "      <td>0.876743</td>\n",
       "    </tr>\n",
       "    <tr>\n",
       "      <th>Low</th>\n",
       "      <td>0.996560</td>\n",
       "      <td>1.000000</td>\n",
       "      <td>0.997323</td>\n",
       "      <td>0.998044</td>\n",
       "      <td>0.006435</td>\n",
       "      <td>0.982988</td>\n",
       "      <td>0.858874</td>\n",
       "    </tr>\n",
       "    <tr>\n",
       "      <th>Open</th>\n",
       "      <td>0.998046</td>\n",
       "      <td>0.997323</td>\n",
       "      <td>1.000000</td>\n",
       "      <td>0.995712</td>\n",
       "      <td>0.038956</td>\n",
       "      <td>0.983440</td>\n",
       "      <td>0.870890</td>\n",
       "    </tr>\n",
       "    <tr>\n",
       "      <th>Close</th>\n",
       "      <td>0.997678</td>\n",
       "      <td>0.998044</td>\n",
       "      <td>0.995712</td>\n",
       "      <td>1.000000</td>\n",
       "      <td>0.026713</td>\n",
       "      <td>0.985739</td>\n",
       "      <td>0.865559</td>\n",
       "    </tr>\n",
       "    <tr>\n",
       "      <th>Volume</th>\n",
       "      <td>0.054937</td>\n",
       "      <td>0.006435</td>\n",
       "      <td>0.038956</td>\n",
       "      <td>0.026713</td>\n",
       "      <td>1.000000</td>\n",
       "      <td>0.078755</td>\n",
       "      <td>0.150011</td>\n",
       "    </tr>\n",
       "    <tr>\n",
       "      <th>Adj Close</th>\n",
       "      <td>0.986307</td>\n",
       "      <td>0.982988</td>\n",
       "      <td>0.983440</td>\n",
       "      <td>0.985739</td>\n",
       "      <td>0.078755</td>\n",
       "      <td>1.000000</td>\n",
       "      <td>0.904947</td>\n",
       "    </tr>\n",
       "    <tr>\n",
       "      <th>SMA_100</th>\n",
       "      <td>0.876743</td>\n",
       "      <td>0.858874</td>\n",
       "      <td>0.870890</td>\n",
       "      <td>0.865559</td>\n",
       "      <td>0.150011</td>\n",
       "      <td>0.904947</td>\n",
       "      <td>1.000000</td>\n",
       "    </tr>\n",
       "  </tbody>\n",
       "</table>\n",
       "</div>"
      ],
      "text/plain": [
       "               High       Low      Open     Close    Volume  Adj Close  \\\n",
       "High       1.000000  0.996560  0.998046  0.997678  0.054937   0.986307   \n",
       "Low        0.996560  1.000000  0.997323  0.998044  0.006435   0.982988   \n",
       "Open       0.998046  0.997323  1.000000  0.995712  0.038956   0.983440   \n",
       "Close      0.997678  0.998044  0.995712  1.000000  0.026713   0.985739   \n",
       "Volume     0.054937  0.006435  0.038956  0.026713  1.000000   0.078755   \n",
       "Adj Close  0.986307  0.982988  0.983440  0.985739  0.078755   1.000000   \n",
       "SMA_100    0.876743  0.858874  0.870890  0.865559  0.150011   0.904947   \n",
       "\n",
       "            SMA_100  \n",
       "High       0.876743  \n",
       "Low        0.858874  \n",
       "Open       0.870890  \n",
       "Close      0.865559  \n",
       "Volume     0.150011  \n",
       "Adj Close  0.904947  \n",
       "SMA_100    1.000000  "
      ]
     },
     "execution_count": 49,
     "metadata": {},
     "output_type": "execute_result"
    }
   ],
   "source": [
    "#Correlation\n",
    "print(\".Corr values of \" + stock)\n",
    "data.corr()"
   ]
  },
  {
   "cell_type": "code",
   "execution_count": 50,
   "metadata": {},
   "outputs": [
    {
     "data": {
      "image/png": "[encoded data removed]",
      "text/plain": [
       "<Figure size 640x480 with 1 Axes>"
      ]
     },
     "metadata": {},
     "output_type": "display_data"
    }
   ],
   "source": [
    "#linear regression of stock open & close\n",
    "x = data.Close\n",
    "y = data.Open\n",
    "\n",
    "slope, intercept, r, p, std_err = stats.linregress(x, y)\n",
    "\n",
    "def myfunc(x):\n",
    "    return slope * x + intercept\n",
    "\n",
    "model = list(map(myfunc, x))\n",
    "\n",
    "plt.scatter(x, y, color = 'red', marker ='+')\n",
    "plt.plot(x, model)\n",
    "plt.show()\n"
   ]
  },
  {
   "cell_type": "code",
   "execution_count": 51,
   "metadata": {},
   "outputs": [
    {
     "name": "stdout",
     "output_type": "stream",
     "text": [
      "0.9957123030881933\n"
     ]
    }
   ],
   "source": [
    "#calculating relationship\n",
    "slope, intercept, r, p, std_err = stats.linregress(x, y)\n",
    "\n",
    "print(r)"
   ]
  },
  {
   "cell_type": "code",
   "execution_count": 52,
   "metadata": {},
   "outputs": [
    {
     "name": "stdout",
     "output_type": "stream",
     "text": [
      "62.01375822582199\n"
     ]
    }
   ],
   "source": [
    "#prediction of what the open (y) price will be according to the last closing (x) price.\n",
    "\n",
    "slope, intercept, r, p, std_err = stats.linregress(x, y)\n",
    "\n",
    "def mypredict(x):\n",
    "    return slope * x + intercept\n",
    "\n",
    "prediction = myfunc(data.Close[-1])\n",
    "\n",
    "print(prediction)"
   ]
  }
 ],
 "metadata": {
  "kernelspec": {
   "display_name": "Python 3.10.6 64-bit",
   "language": "python",
   "name": "python3"
  },
  "language_info": {
   "codemirror_mode": {
    "name": "ipython",
    "version": 3
   },
   "file_extension": ".py",
   "mimetype": "text/x-python",
   "name": "python",
   "nbconvert_exporter": "python",
   "pygments_lexer": "ipython3",
   "version": "3.10.6"
  },
  "orig_nbformat": 4,
  "vscode": {
   "interpreter": {
    "hash": "d23fa960d652c8dbe2c74ff4a5a9d01d94fbd8a01c9d7d95c119f1f3d1254d47"
   }
  }
 },
 "nbformat": 4,
 "nbformat_minor": 2
}
